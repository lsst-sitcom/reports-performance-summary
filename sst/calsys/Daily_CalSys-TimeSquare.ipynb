{
 "cells": [
  {
   "cell_type": "markdown",
   "id": "3e6bc2ff-3dd4-4ad7-a559-329645cc1fb1",
   "metadata": {},
   "source": [
    "# Daily CalSys Checkout"
   ]
  },
  {
   "cell_type": "code",
   "execution_count": null,
   "id": "9bd143a0-777b-43ce-bbbd-269ce8be3afe",
   "metadata": {},
   "outputs": [],
   "source": [
    "# User input \n",
    "day_obs = 20250908"
   ]
  },
  {
   "cell_type": "code",
   "execution_count": null,
   "id": "df7ab412-f3cc-4360-bb05-9b3f5e8686f4",
   "metadata": {},
   "outputs": [],
   "source": [
    "%matplotlib inline\n",
    "%load_ext autoreload\n",
    "%autoreload 2"
   ]
  },
  {
   "cell_type": "code",
   "execution_count": null,
   "id": "f46f9d92-43b8-4410-9360-a48154618387",
   "metadata": {},
   "outputs": [],
   "source": [
    "import datetime as dt\n",
    "\n",
    "import matplotlib.dates as mdates\n",
    "import matplotlib.pyplot as plt\n",
    "import numpy as np\n",
    "import pandas as pd\n",
    "from astropy.io import fits\n",
    "from astropy.table import Table\n",
    "from astropy.time import Time, TimeDelta\n",
    "from scipy.interpolate import interp1d\n",
    "\n",
    "# LSST-specific packages\n",
    "from lsst.daf.butler import Butler\n",
    "import lsst.summit.utils.butlerUtils as butlerUtils\n",
    "from lsst.resources import ResourcePath\n",
    "from lsst_efd_client import EfdClient, resample"
   ]
  },
  {
   "cell_type": "markdown",
   "id": "638c0885-6765-45a7-a997-c4f880dc54f6",
   "metadata": {},
   "source": [
    "## Whitelight Checkout Plots"
   ]
  },
  {
   "cell_type": "code",
   "execution_count": null,
   "id": "f40b6133-d897-4cb6-91b7-9577967f81b3",
   "metadata": {},
   "outputs": [],
   "source": [
    "sequence_names= [\"whitelight_u_24_M385L3_source\",\"whitelight_i_39_M730L5_source\",\n",
    "                 \"whitelight_i_39_M810L3_source\",\"whitelight_g_6_M455L4_source\",\n",
    "                 \"whitelight_g_6_M505L4_source\",\"whitelight_r_57_M565L3_source\",\n",
    "                 \"whitelight_r_57_M660L4_source\",\"whitelight_z_20_M850L3_source\",\n",
    "                 \"whitelight_z_20_M940L3_source\",\"whitelight_y_10_M940L3_source\",\n",
    "                 \"whitelight_y_10_M970L4_source\"]"
   ]
  },
  {
   "cell_type": "code",
   "execution_count": null,
   "id": "fd985828-fb0a-404b-b8f9-6ab5c8c4435e",
   "metadata": {},
   "outputs": [],
   "source": [
    "async def get_electrometer_data(day_obs):\n",
    "    client = EfdClient('usdf_efd')\n",
    "    msg_log_topic = \"lsst.sal.Electrometer.logevent_largeFileObjectAvailable\"\n",
    "    selections = [\"url\",\"id\"]\n",
    "    length_of_time = 60*24*30 #30 days\n",
    "    date_str = str(day_obs)  \n",
    "    date_str = f\"{date_str[:4]}-{date_str[4:6]}-{date_str[6:]}T23:59:00.00\"\n",
    "    #date_str = \"2025-08-20\"\n",
    "    end_time = Time(date_str, format=\"isot\")\n",
    "    start_time = end_time - TimeDelta(60.* length_of_time, format='sec')\n",
    "    elec_df = await client.select_time_series(msg_log_topic,selections, start=start_time, end=end_time)\n",
    "    elec_df['dayobs'] = elec_df[\"id\"].str.split(\"_\").str[2]\n",
    "\n",
    "    daily_df = elec_df[elec_df[\"id\"].str.contains(\"BT529\", case=False, na=False)].copy()\n",
    "    daily_df['led_id'] = daily_df[\"id\"].str.extract(r\"_(\\d+)#\")\n",
    "    day_df = daily_df[daily_df.dayobs == str(day_obs)]\n",
    "    return elec_df, daily_df, day_df"
   ]
  },
  {
   "cell_type": "code",
   "execution_count": null,
   "id": "57da500a-5a3a-4307-85f8-90cee53a25a0",
   "metadata": {},
   "outputs": [],
   "source": [
    "elec_df, daily_df, day_df = await get_electrometer_data(day_obs)"
   ]
  },
  {
   "cell_type": "code",
   "execution_count": null,
   "id": "5428508e-bca8-4962-a29a-deb885d31fb9",
   "metadata": {},
   "outputs": [],
   "source": [
    "fig, axarr = plt.subplots(3,4, figsize=(20,15))\n",
    "\n",
    "for (idx, row), ax in zip(day_df.iterrows(), axarr.flatten()):\n",
    "    filt, led = sequence_names[int(row.led_id)].split('_')[1], sequence_names[int(row.led_id)].split('_')[3]\n",
    "    try:\n",
    "        path = ResourcePath('s3://lfa@' + row.url.split('.org/')[1])\n",
    "        with path.open(\"rb\") as f:\n",
    "            hdu = fits.open(f)  # use context manager so files close properly\n",
    "            ax.plot(hdu[1].data['Elapsed Time'], hdu[1].data['Signal'], 'x-', label=f\"Mean (std) {np.mean(hdu[1].data['Signal']):.2e} ({np.std(hdu[1].data['Signal']):.2e})\")\n",
    "\n",
    "            ax.set_title(f\"Filter: {filt}, LED: {led}\")\n",
    "            ax.set_xlabel(\"Exposure Time (s)\")\n",
    "            ax.set_ylabel(\"Photodiode Current\")\n",
    "            ax.legend()\n",
    "    except:\n",
    "        print(f\"didn't work: {path}\")\n",
    "\n",
    "\n",
    "fig.suptitle(f\"DayObs: {day_obs}\")\n",
    "plt.tight_layout()\n",
    "plt.show()"
   ]
  },
  {
   "cell_type": "code",
   "execution_count": null,
   "id": "5bb6e985-198f-4576-a490-bea0d38a9060",
   "metadata": {},
   "outputs": [],
   "source": [
    "sequence_dict = {name: [] for name in sequence_names}\n",
    "for day in np.unique(daily_df.dayobs):\n",
    "    df_ = daily_df[daily_df.dayobs == day]\n",
    "\n",
    "    #get mean time\n",
    "    seconds = df_.index.hour * 3600 + df_.index.minute * 60 + df_.index.second\n",
    "    mean_seconds = np.mean(seconds)\n",
    "    mean_time = (dt.datetime.min + dt.timedelta(seconds=mean_seconds)).time()\n",
    "\n",
    "    for idx, row in df_.iterrows():\n",
    "        filt, led = sequence_names[int(row.led_id)].split('_')[1], sequence_names[int(row.led_id)].split('_')[3]\n",
    "        try:\n",
    "            path = ResourcePath('s3://lfa@' + row.url.split('.org/')[1])\n",
    "            with path.open(\"rb\") as f:\n",
    "                hdu = fits.open(f)\n",
    "                sequence_dict[sequence_names[int(row.led_id)]].append([day,mean_time,np.mean(hdu[1].data['Signal']),np.std(hdu[1].data['Signal'])])\n",
    "        except:\n",
    "            print(f\"didn't work: {row.url}\")"
   ]
  },
  {
   "cell_type": "code",
   "execution_count": null,
   "id": "84a1e85c-94d6-4153-8c6c-c1d27eaeb9fa",
   "metadata": {},
   "outputs": [],
   "source": [
    "def time_to_seconds(dt):\n",
    "    return dt.hour*3600 + dt.minute*60 + dt.second\n",
    "\n",
    "fig, axarr = plt.subplots(6,2,sharex=True,figsize=(15,25))\n",
    "ax = axarr.ravel()\n",
    "for i, (led_name, values) in enumerate(sequence_dict.items()):\n",
    "    filt, led = led_name.split('_')[1], led_name.split('_')[3]\n",
    "    try:\n",
    "        values = np.vstack(values)\n",
    "        means = [float(val) for val in values[:,2]]\n",
    "        stds = [float(val) for val in values[:,3]]\n",
    "    \n",
    "        cvals = np.array([time_to_seconds(t) for t in values[:,1]])  # dates = pd.to_datetime(...)\n",
    "        sc = ax[i].scatter(values[:,0], means, c=cvals, cmap=\"viridis\")\n",
    "        ax[i].errorbar(values[:,0], means, yerr=stds,fmt='none',ecolor='black',elinewidth=2)\n",
    "        ax[i].set_title(f\"Filter: {filt}, LED: {led}\")\n",
    "        ax[i].set_xticks(values[:,0], values[:,0], rotation=45)\n",
    "        cbar = plt.colorbar(sc, ax=ax[i])\n",
    "    \n",
    "        ticks = cbar.get_ticks()   # grab the auto ticks\n",
    "        cbar.set_ticks(ticks)      # lock them in\n",
    "        cbar.set_ticklabels([f\"{int(t//3600):02d}:{int((t%3600)//60):02d}\" for t in ticks])\n",
    "        cbar.set_label(\"Time of day (HH:MM)\")\n",
    "    except:\n",
    "        print(f'No data for {led_name}')\n",
    "plt.tight_layout()"
   ]
  },
  {
   "cell_type": "markdown",
   "id": "c240fef1-fee5-4556-9d4d-17fadf38472b",
   "metadata": {},
   "source": [
    "## Laser Temperature"
   ]
  },
  {
   "cell_type": "code",
   "execution_count": null,
   "id": "90c12d7c-3140-463d-878a-010e40fd7de7",
   "metadata": {},
   "outputs": [],
   "source": [
    "async def get_laser_temp_plots(day_obs):\n",
    "    client = EfdClient('usdf_efd')\n",
    "    length_of_time = 60*24 #min * hours\n",
    "    date_str = str(day_obs)  # '20250908'\n",
    "    date_str = f\"{date_str[:4]}-{date_str[4:6]}-{date_str[6:]}\"\n",
    "\n",
    "    end_time = Time(date_str, format=\"iso\")\n",
    "    start_time = end_time - TimeDelta(60.* length_of_time, format='sec')\n",
    "    \n",
    "    \n",
    "    temp_log_topic = 'lsst.sal.ESS.temperature'\n",
    "    temp_selections = ['salIndex','location', 'temperatureItem0', 'temperatureItem1', \n",
    "                  'temperatureItem2', 'temperatureItem3', 'temperatureItem4',\n",
    "                  'temperatureItem5', 'temperatureItem6', 'temperatureItem7']\n",
    "    temp_df = await client.select_time_series(temp_log_topic, temp_selections, start=start_time, end=end_time)\n",
    "    temp_df = temp_df[temp_df.salIndex == 107]\n",
    "    if len(temp_df) > 0:\n",
    "    \n",
    "        hum_log_topic = 'lsst.sal.ESS.relativeHumidity'\n",
    "        hum_selections = ['salIndex','location', 'relativeHumidityItem']\n",
    "        hum_df = await client.select_time_series(hum_log_topic, hum_selections, start=start_time, end=end_time)\n",
    "        hum_df = hum_df[hum_df.salIndex == 107]\n",
    "    \n",
    "        #Getting locations\n",
    "        temp_df = temp_df[temp_df.location != 'Laser Enclosure']\n",
    "        locations = temp_df.iloc[0]['location'].split(' ')\n",
    "        temp_names = {}\n",
    "        for i in range(len(locations)):\n",
    "            temp_names[f'temperatureItem{i}'] = locations[i]\n",
    "        temp_df.rename(columns=temp_names, inplace=True)\n",
    "        temp_df.drop(\"LaserFan\", axis=1, inplace=True)\n",
    "        locations.remove('LaserFan')\n",
    "    \n",
    "        fig, (ax1, ax2) = plt.subplots(2,1,figsize=(15, 10))\n",
    "        ret = ax1.plot(temp_df.index, temp_df[locations], label=locations)\n",
    "        ax1.set_xlabel('Time (month/day - hour)')\n",
    "        myFmt = mdates.DateFormatter('%m/%d - %H')\n",
    "        #ax1.plot(df.index, dew_point, label='Dew Point')\n",
    "        ax2.plot(hum_df.index, hum_df.relativeHumidityItem, label='Laser Rel. Humidity')\n",
    "        ax2.set_ylabel('Relative Humidity')\n",
    "        ax1.set_ylabel('Temperature (C)')\n",
    "        ax1.legend(bbox_to_anchor=(1., 1.05))\n",
    "        #ax1.set_ylim(5,20)\n",
    "        plt.show()\n",
    "    else:\n",
    "        print(f'No Laser Temperature Data for {day_obs}')"
   ]
  },
  {
   "cell_type": "code",
   "execution_count": null,
   "id": "0a3c84d8-3572-42eb-940d-2147d123baa0",
   "metadata": {},
   "outputs": [],
   "source": [
    "await get_laser_temp_plots(day_obs)"
   ]
  },
  {
   "cell_type": "markdown",
   "id": "d75f5117-7abd-416d-8ca9-29982cddceef",
   "metadata": {},
   "source": [
    "## Exposure Lists"
   ]
  },
  {
   "cell_type": "markdown",
   "id": "6ff090f1-2bab-449c-8029-40b7a87b661c",
   "metadata": {},
   "source": [
    "### Electrometer Exposures"
   ]
  },
  {
   "cell_type": "code",
   "execution_count": null,
   "id": "97589067-5360-49c9-82ba-b359b24dfecc",
   "metadata": {},
   "outputs": [],
   "source": [
    "day_df"
   ]
  },
  {
   "cell_type": "markdown",
   "id": "5f4791b6-4159-41f6-ac87-efffe95dbc62",
   "metadata": {},
   "source": [
    "### Calibration Exposures (LSSTCam)"
   ]
  },
  {
   "cell_type": "code",
   "execution_count": null,
   "id": "60b2a261-a607-4e8d-b566-683aef430d19",
   "metadata": {},
   "outputs": [],
   "source": [
    "# This is a list of the test cases we regularly use for calibration products\n",
    "test_cases = [90, 360, 556, 479, 563, 399, 566, 339]\n",
    "test_cases = ['BLOCK-T'+str(test) for test in test_cases]"
   ]
  },
  {
   "cell_type": "code",
   "execution_count": null,
   "id": "459b5a77-b163-4e34-a0ea-3f80d7673537",
   "metadata": {},
   "outputs": [],
   "source": [
    "butler = Butler('/repo/embargo', collections=['LSSTCam/raw/all'], instrument='LSSTCam')\n",
    "\n",
    "exposures = butler.query_dimension_records(\n",
    "    \"exposure\", \n",
    "    where=f\"instrument='LSSTCam' and exposure.day_obs={day_obs}\"\n",
    ")\n",
    "\n",
    "# Build the table in one line\n",
    "exposure_table = Table([exp.toDict() for exp in exposures])\n",
    "\n",
    "# Filter by science_program\n",
    "filtered = exposure_table[np.isin(exposure_table['science_program'], test_cases)]\n",
    "\n",
    "result = filtered[\n",
    "    'day_obs','group','physical_filter','obs_id',\n",
    "    'exposure_time','dark_time','observation_reason',\n",
    "    'science_program','seq_num','can_see_sky'\n",
    "]"
   ]
  },
  {
   "cell_type": "code",
   "execution_count": null,
   "id": "f2775ce1-a7ff-48c8-b843-6bc183990af6",
   "metadata": {},
   "outputs": [],
   "source": [
    "result"
   ]
  },
  {
   "cell_type": "code",
   "execution_count": null,
   "id": "c0d9381f-ce2d-49aa-8194-9a6e5c50407d",
   "metadata": {},
   "outputs": [],
   "source": []
  }
 ],
 "metadata": {
  "kernelspec": {
   "display_name": "LSST",
   "language": "python",
   "name": "lsst"
  },
  "language_info": {
   "codemirror_mode": {
    "name": "ipython",
    "version": 3
   },
   "file_extension": ".py",
   "mimetype": "text/x-python",
   "name": "python",
   "nbconvert_exporter": "python",
   "pygments_lexer": "ipython3",
   "version": "3.12.11"
  }
 },
 "nbformat": 4,
 "nbformat_minor": 5
}
