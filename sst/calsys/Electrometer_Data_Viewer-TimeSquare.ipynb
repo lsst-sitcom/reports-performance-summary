{
 "cells": [
  {
   "cell_type": "markdown",
   "id": "3e6bc2ff-3dd4-4ad7-a559-329645cc1fb1",
   "metadata": {},
   "source": [
    "# Electrometer Data Viewer"
   ]
  },
  {
   "cell_type": "code",
   "execution_count": null,
   "id": "9bd143a0-777b-43ce-bbbd-269ce8be3afe",
   "metadata": {},
   "outputs": [],
   "source": [
    "# User input \n",
    "dayobs = 20250910\n",
    "groupid = 'BT529_O_20250910_000001_106858_001#1'"
   ]
  },
  {
   "cell_type": "code",
   "execution_count": null,
   "id": "df7ab412-f3cc-4360-bb05-9b3f5e8686f4",
   "metadata": {},
   "outputs": [],
   "source": [
    "%matplotlib inline\n",
    "%load_ext autoreload\n",
    "%autoreload 2"
   ]
  },
  {
   "cell_type": "code",
   "execution_count": null,
   "id": "f46f9d92-43b8-4410-9360-a48154618387",
   "metadata": {},
   "outputs": [],
   "source": [
    "import datetime as dt\n",
    "\n",
    "import matplotlib.pyplot as plt\n",
    "import numpy as np\n",
    "import pandas as pd\n",
    "from astropy.io import fits\n",
    "from astropy.table import Table\n",
    "from astropy.time import Time, TimeDelta\n",
    "\n",
    "# LSST-specific packages\n",
    "from lsst.resources import ResourcePath\n",
    "from lsst_efd_client import EfdClient"
   ]
  },
  {
   "cell_type": "code",
   "execution_count": null,
   "id": "cd156da2-9c7a-40ef-a490-ee09f217de0c",
   "metadata": {},
   "outputs": [],
   "source": [
    "dayobs_str = str(dayobs)\n",
    "iso_str = f\"{dayobs_str[:4]}-{dayobs_str[4:6]}-{dayobs_str[6:]}\"\n",
    "\n",
    "start_time = Time(iso_str, format=\"iso\")\n",
    "end_time = start_time + TimeDelta(60*60*24,format='sec')\n",
    "\n",
    "client = EfdClient('usdf_efd')\n",
    "selections = [\"url\",\"id\"]\n",
    "msg_log_topic = \"lsst.sal.Electrometer.logevent_largeFileObjectAvailable\"\n",
    "\n",
    "elec_df = await client.select_time_series(msg_log_topic,selections, start=start_time, end=end_time)"
   ]
  },
  {
   "cell_type": "code",
   "execution_count": null,
   "id": "b9af6c48-6f50-41bc-928d-a147bfd36de9",
   "metadata": {},
   "outputs": [],
   "source": [
    "hdr = None\n",
    "try:\n",
    "    this_obs = elec_df[elec_df.id == groupid]\n",
    "    url = this_obs.url.values[0]\n",
    "    path = ResourcePath('s3://lfa@' + url.split('.org/')[1])\n",
    "    with path.open(\"rb\") as f:\n",
    "        hdu = fits.open(f)\n",
    "        hdr = hdu[0].header\n",
    "        fig,ax = plt.subplots()\n",
    "        ax.plot(hdu[1].data['Elapsed Time'], hdu[1].data['Signal'], 'x-', label=f\"Mean (std) {np.mean(hdu[1].data['Signal']):.2e} ({np.std(hdu[1].data['Signal']):.2e})\")\n",
    "        ax.set_title(f\"Electrometer Data: {groupid}\")\n",
    "        ax.set_xlabel(\"Exposure Time (s)\")\n",
    "        ax.set_ylabel(\"Photodiode Current\")\n",
    "        ax.legend()\n",
    "except Exception as e:\n",
    "    print(f\"The groupid you input doesn't seem to be available: {e}\")"
   ]
  },
  {
   "cell_type": "code",
   "execution_count": null,
   "id": "5ddabea1-7f60-403c-8483-996dddabde23",
   "metadata": {},
   "outputs": [],
   "source": [
    "hdr"
   ]
  },
  {
   "cell_type": "code",
   "execution_count": null,
   "id": "ceadbe56-b108-471d-b69a-d700be758820",
   "metadata": {},
   "outputs": [],
   "source": []
  }
 ],
 "metadata": {
  "kernelspec": {
   "display_name": "LSST",
   "language": "python",
   "name": "lsst"
  },
  "language_info": {
   "codemirror_mode": {
    "name": "ipython",
    "version": 3
   },
   "file_extension": ".py",
   "mimetype": "text/x-python",
   "name": "python",
   "nbconvert_exporter": "python",
   "pygments_lexer": "ipython3",
   "version": "3.12.11"
  }
 },
 "nbformat": 4,
 "nbformat_minor": 5
}
