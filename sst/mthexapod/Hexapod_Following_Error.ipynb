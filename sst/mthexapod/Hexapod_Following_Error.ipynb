{
 "cells": [
  {
   "cell_type": "markdown",
   "id": "230abe47-0129-48ba-a185-7dadb5a4f98a",
   "metadata": {},
   "source": [
    "# MTHexapod Following Error"
   ]
  },
  {
   "cell_type": "code",
   "execution_count": null,
   "id": "2d8e992b-1a10-4ed8-95e8-0f5a8ce08158",
   "metadata": {},
   "outputs": [],
   "source": [
    "# Times Square parameters\n",
    "day_obs = 20250420\n",
    "sal_index = 2"
   ]
  },
  {
   "cell_type": "code",
   "execution_count": null,
   "id": "95c1a8ad-f95c-4186-8fbd-c0dd9534b4f0",
   "metadata": {},
   "outputs": [],
   "source": [
    "%load_ext autoreload\n",
    "%autoreload 2\n",
    "from IPython.display import display, HTML\n",
    "from pathlib import Path\n",
    "\n",
    "from lsst.summit.utils.efdUtils import makeEfdClient\n",
    "\n",
    "import Hexapod_Following_Error as hex_debug"
   ]
  },
  {
   "cell_type": "code",
   "execution_count": null,
   "id": "3694adaa-bdea-4816-b882-ca46530b22f3",
   "metadata": {},
   "outputs": [],
   "source": [
    "# Initialize an EFD client\n",
    "efd_client = makeEfdClient()\n",
    "\n",
    "# Global variables\n",
    "HEXAPOD_AXES = [\"X\", \"Y\", \"Z\", \"U\", \"V\", \"W\"]\n",
    "N_AXES = len(HEXAPOD_AXES)\n",
    "N_STRUTS = 6"
   ]
  },
  {
   "cell_type": "markdown",
   "id": "ae8071d0-cb25-4dca-9c17-bcf977f03579",
   "metadata": {},
   "source": [
    "## Data Analysis"
   ]
  },
  {
   "cell_type": "code",
   "execution_count": null,
   "id": "b411e90c-89e4-4404-81a5-c348dbd490ff",
   "metadata": {},
   "outputs": [],
   "source": [
    "log_messages = hex_debug.query_hexapod_log_messages(efd_client, day_obs, sal_index)\n",
    "controller_states = hex_debug.query_hexapod_controller_state(efd_client, day_obs, sal_index)\n",
    "\n",
    "hex_debug.collapsible_table(efd_client, log_messages, controller_states, \"message\", sal_index, expanded=False)"
   ]
  },
  {
   "cell_type": "code",
   "execution_count": null,
   "id": "956b4bda-d7f0-4ae0-b8ba-b4a6dfe08e4b",
   "metadata": {},
   "outputs": [],
   "source": []
  }
 ],
 "metadata": {
  "kernelspec": {
   "display_name": "LSST",
   "language": "python",
   "name": "lsst"
  },
  "language_info": {
   "codemirror_mode": {
    "name": "ipython",
    "version": 3
   },
   "file_extension": ".py",
   "mimetype": "text/x-python",
   "name": "python",
   "nbconvert_exporter": "python",
   "pygments_lexer": "ipython3",
   "version": "3.12.9"
  }
 },
 "nbformat": 4,
 "nbformat_minor": 5
}
