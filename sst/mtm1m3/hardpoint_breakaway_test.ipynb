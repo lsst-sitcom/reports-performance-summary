{
 "cells": [
  {
   "cell_type": "markdown",
   "id": "1fcedb23-231b-4386-889e-95873253e922",
   "metadata": {},
   "source": [
    "# Hardpoint Breakaway Tests - Recent History\n",
    "\n",
    "This notebook evaluates the hardpoint breakaway tests performed on a given `day_obs`.  \n",
    "The most important values to evaluate per hardpoint are:\n",
    "  \n",
    "  1. The measured forces when the breakaway happens in the positive direction (compression).\n",
    "  2. The measured forces when the breakawat happens in the negative direction (tension).\n",
    "  3. The stiffness of the breakaway mechanism.\n",
    "     This is defined as the linear coefficient of the polynomial that fits the\n",
    "     displacement versus the measured forces. "
   ]
  },
  {
   "cell_type": "code",
   "execution_count": null,
   "id": "e3f5842b-9305-409e-b388-0dde0e349237",
   "metadata": {},
   "outputs": [],
   "source": [
    "# Times Square Parameters\n",
    "day_obs = 20250804  # YYYYMMDD"
   ]
  },
  {
   "cell_type": "code",
   "execution_count": null,
   "id": "c8d029b9-1f0f-45e4-8ad2-31277a5439a8",
   "metadata": {},
   "outputs": [],
   "source": [
    "import asyncio\n",
    "import ipywidgets as W\n",
    "import matplotlib.dates as mdates\n",
    "import matplotlib.pyplot as plt\n",
    "import numpy as np\n",
    "import pandas as pd\n",
    "\n",
    "from astropy.time import Time\n",
    "from typing import Optional\n",
    "from io import BytesIO\n",
    "from IPython.display import display, clear_output\n",
    "from typing import List\n",
    "\n",
    "from lsst_efd_client import EfdClient\n",
    "from lsst.ts.xml.enums.MTM1M3 import HardpointTest\n",
    "from lsst.summit.utils.efdUtils import (\n",
    "    getEfdData,\n",
    "    getDayObsEndTime,\n",
    "    getDayObsStartTime,\n",
    "    makeEfdClient,\n",
    ")"
   ]
  },
  {
   "cell_type": "code",
   "execution_count": null,
   "id": "47583051-1901-4430-b6df-6c06439aa17f",
   "metadata": {},
   "outputs": [],
   "source": [
    "# --- Global Variables ---\n",
    "# HP BreakAway Limits from https://sitcomtn-082.lsst.io/\n",
    "COMPRESSION_LOWER_LIMIT = 2981  # N\n",
    "COMPRESSION_UPPER_LIMIT = 3959  # N\n",
    "TENSION_LOWER_LIMIT = -4420  # N\n",
    "TENSION_UPPER_LIMIT = -3456  # N\n",
    "\n",
    "# Used to select the window size near zero measured forces.\n",
    "DISPLACEMENT_CROP_RANGE = 300  # um\n",
    "DISPLACEMENT_CROP_RANGE_FOR_FIT = 100  # um\n",
    "\n",
    "# Used to determine if a test was valid or not\n",
    "MEASURED_FORCE_MAXIMUM_TOLERANCE = 1000  # N\n",
    "\n",
    "# Meter to micrometer\n",
    "METER_TO_MICROMETER = 1e6  # um/m\n",
    "\n",
    "# Maximum spec stiffness\n",
    "SPEC_STIFFNESS = 100  # N/um\n",
    "\n",
    "# Status Plotting\n",
    "STATUS_COLORS = {\n",
    "    HardpointTest.NOTTESTED: \"lightgrey\",\n",
    "    HardpointTest.MOVINGNEGATIVE: \"lightsteelblue\",\n",
    "    HardpointTest.TESTINGPOSITIVE: \"forestgreen\",\n",
    "    HardpointTest.TESTINGNEGATIVE: \"royalblue\",\n",
    "    HardpointTest.MOVINGREFERENCE: \"darkseagreen\",\n",
    "    HardpointTest.PASSED: \"dimgrey\",\n",
    "    HardpointTest.FAILED: \"red\",\n",
    "}\n",
    "\n",
    "# We use this a lot, so let's make it shorter\n",
    "TEST_POS_COLOR = STATUS_COLORS[HardpointTest.TESTINGPOSITIVE]\n",
    "TEST_NEG_COLOR = STATUS_COLORS[HardpointTest.TESTINGNEGATIVE]\n",
    "\n",
    "# Number of hardpoints\n",
    "n_hardpoints = 6\n",
    "\n",
    "# Gap size to split different test runs\n",
    "gap_size = \"3min\"\n",
    "\n",
    "# Create an EFD client instance\n",
    "efd_client = makeEfdClient()\n",
    "\n",
    "# Get the start and end times\n",
    "start_time = getDayObsStartTime(day_obs)\n",
    "end_time = getDayObsEndTime(day_obs)"
   ]
  },
  {
   "cell_type": "code",
   "execution_count": null,
   "id": "6f8c415a-beba-4be7-b834-beb4a1629d84",
   "metadata": {},
   "outputs": [],
   "source": [
    "# Query the CSC level command that we can use to define the start of a\n",
    "# breakaway test for a given strut.\n",
    "test_command_df = getEfdData(\n",
    "    client=efd_client,\n",
    "    topic=\"lsst.sal.MTM1M3.command_testHardpoint\",\n",
    "    columns=[\"hardpointActuator\"],\n",
    "    begin=start_time,\n",
    "    end=end_time,\n",
    ")\n",
    "\n",
    "\n",
    "# test_command_df = await efd_client.select_time_series(\n",
    "#     topic_name=\"lsst.sal.MTM1M3.command_testHardpoint\",\n",
    "#     fields=[\"hardpointActuator\"],\n",
    "#     start=start_time,\n",
    "#     end=end_time\n",
    "# )"
   ]
  },
  {
   "cell_type": "code",
   "execution_count": null,
   "id": "6fd974ec-2e33-4bab-8b43-c33e924c9fbf",
   "metadata": {},
   "outputs": [],
   "source": [
    "# Query the status of the breakaway tests as they evolve.\n",
    "test_status_df = getEfdData(\n",
    "    client=efd_client,\n",
    "    topic=\"lsst.sal.MTM1M3.logevent_hardpointTestStatus\",\n",
    "    columns=[f\"testState{i}\" for i in range(n_hardpoints)],\n",
    "    begin=start_time,\n",
    "    end=end_time,\n",
    ")\n",
    "\n",
    "# test_command_df = await efd_client.select_time_series(\n",
    "#     topic_name=\"lsst.sal.MTM1M3.logevent_hardpointTestStatus\",\n",
    "#     fields=[f\"testState{i}\" for i in range(n_hardpoints)],\n",
    "#     start=start_time,\n",
    "#     end=end_time\n",
    "# )"
   ]
  }
 ],
 "metadata": {
  "kernelspec": {
   "display_name": "LSST",
   "language": "python",
   "name": "lsst"
  },
  "language_info": {
   "codemirror_mode": {
    "name": "ipython",
    "version": 3
   },
   "file_extension": ".py",
   "mimetype": "text/x-python",
   "name": "python",
   "nbconvert_exporter": "python",
   "pygments_lexer": "ipython3",
   "version": "3.12.11"
  }
 },
 "nbformat": 4,
 "nbformat_minor": 5
}
