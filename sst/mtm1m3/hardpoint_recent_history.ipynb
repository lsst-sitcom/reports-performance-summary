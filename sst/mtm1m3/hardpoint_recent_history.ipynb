{
 "cells": [
  {
   "cell_type": "markdown",
   "metadata": {},
   "source": [
    "# Hardpoint Breakaway Tests - Recent History\n",
    "\n",
    "This notebook evaluates the hardpoint breakaway tests performed on a given `day_obs`.  "
   ]
  },
  {
   "cell_type": "code",
   "execution_count": null,
   "metadata": {},
   "outputs": [],
   "source": [
    "# Times Square Parameters\n",
    "day_obs = 20250804  # YYYYMMDD"
   ]
  },
  {
   "cell_type": "code",
   "execution_count": null,
   "metadata": {
    "tags": []
   },
   "outputs": [],
   "source": [
    "%matplotlib inline\n",
    "%load_ext autoreload\n",
    "%autoreload 2\n",
    "\n",
    "import base64\n",
    "import ipywidgets as W\n",
    "import numpy as np\n",
    "import pandas as pd\n",
    "import matplotlib.pyplot as plt\n",
    "import matplotlib.gridspec as gs\n",
    "\n",
    "from typing import Optional\n",
    "from io import BytesIO\n",
    "from IPython.display import display, clear_output\n",
    "\n",
    "from lsst.ts.xml.enums.MTM1M3 import HardpointTest\n",
    "\n",
    "from lsst.summit.utils.efdUtils import (\n",
    "    getEfdData,\n",
    "    getDayObsEndTime,\n",
    "    getDayObsStartTime,\n",
    "    makeEfdClient,\n",
    ")\n",
    "\n",
    "import hardpoint_recent_history as hpt"
   ]
  },
  {
   "cell_type": "code",
   "execution_count": null,
   "metadata": {},
   "outputs": [],
   "source": [
    "# Number of hardpoints\n",
    "n_hardpoints = 6\n",
    "\n",
    "# Create an EFD client instance\n",
    "client = makeEfdClient()\n",
    "\n",
    "# Get the start and end times\n",
    "start_time = getDayObsStartTime(day_obs)\n",
    "end_time = getDayObsEndTime(day_obs)"
   ]
  },
  {
   "cell_type": "code",
   "execution_count": null,
   "metadata": {},
   "outputs": [],
   "source": [
    "# Query the CSC level command that we can use to define the start of a\n",
    "# breakaway test for a given strut.\n",
    "test_command_df = getEfdData(\n",
    "    client=client,\n",
    "    topic=\"lsst.sal.MTM1M3.command_testHardpoint\",\n",
    "    columns=[\"hardpointActuator\"],\n",
    "    begin=start_time,\n",
    "    end=end_time,\n",
    ")"
   ]
  },
  {
   "cell_type": "code",
   "execution_count": null,
   "metadata": {},
   "outputs": [],
   "source": [
    "# Query the status of the breakaway tests as they evolve.\n",
    "test_status_df = getEfdData(\n",
    "    client=client,\n",
    "    topic=\"lsst.sal.MTM1M3.logevent_hardpointTestStatus\",\n",
    "    columns=[f\"testState{i}\" for i in range(n_hardpoints)],\n",
    "    begin=start_time,\n",
    "    end=end_time,\n",
    ")"
   ]
  },
  {
   "cell_type": "code",
   "execution_count": null,
   "metadata": {},
   "outputs": [],
   "source": [
    "def make_hardpoint_group_selector(\n",
    "    commands: pd.DataFrame,\n",
    "    statuses: pd.DataFrame,\n",
    "    gap: str = \"3min\",\n",
    "):\n",
    "    \"\"\"Select a group, simulate query, and plot status timeline boxes.\"\"\"\n",
    "    statuses = hpt.ensure_utc(statuses)\n",
    "    commands = hpt.group_by_gaps(gap, hpt.ensure_utc(commands))\n",
    "    summary = hpt.build_labels(commands, statuses)\n",
    "\n",
    "    def _label(row: pd.Series) -> str:\n",
    "        s = row[\"reference_time\"].strftime(\"%Y-%m-%d %H:%M UTC\")\n",
    "        return f\"Test run {int(row['group_id'])} | Started near {s} | {row['n']} cmds\"\n",
    "\n",
    "    options = [(_label(r), int(r[\"group_id\"])) for _, r in summary.iterrows()]\n",
    "    dd = W.Dropdown(description=\"Select test run:\", options=options,\n",
    "                    value=options[0][1] if options else None,\n",
    "                    layout=W.Layout(width=\"650px\"))\n",
    "\n",
    "    out = W.Output()\n",
    "\n",
    "    def show_group(gid: int):\n",
    "        with out:\n",
    "            \n",
    "            # Clear the output and print a nice message for impacient people\n",
    "            clear_output()\n",
    "            print(\"Querying and processing data...\")\n",
    "            \n",
    "            row = summary.loc[summary[\"group_id\"] == gid].iloc[0]\n",
    "            t0, t1 = row[\"start_time\"], row[\"end_time\"]\n",
    "            \n",
    "            sub_status = test_status_df.loc[t0:t1]\n",
    "            fig, ax = plt.subplots(1, 1, figsize=(12, 4), constrained_layout=True)\n",
    "            hpt.plot_status_timeline(ax, sub_status, t0, t1)\n",
    "                        \n",
    "            # display the figure using html\n",
    "            display(W.HTML(f\"<b>Group window:</b> {t0} → {t1} (UTC)\"))\n",
    "            display(fig)\n",
    "            plt.close(fig)  # Ensures the plots are shown only once\n",
    "\n",
    "            telemetry = hpt.query_hardpoints_telemetry(client, row)\n",
    "\n",
    "            for hp in row[\"uniq_hp\"]:\n",
    "                fig, (ax_t, ax_s) = plt.subplots(1, 2, figsize=(12, 4), constrained_layout=True)\n",
    "                hpt.plot_forces_timeline(ax_t, telemetry, hp-1)\n",
    "                hpt.plot_stiffness(ax_s, telemetry, hp-1)\n",
    "                display(W.HTML(f\"<b>Hardpoint {hp}:</b>\"))\n",
    "                display(fig)\n",
    "                plt.close(fig)\n",
    "            \n",
    "\n",
    "    def _on_change(change):\n",
    "        if change[\"name\"] == \"value\" and change[\"new\"] is not None:\n",
    "            show_group(change[\"new\"])\n",
    "\n",
    "    dd.observe(_on_change)\n",
    "    display(dd, out)\n",
    "    if dd.value is not None:\n",
    "        show_group(dd.value)\n",
    "\n",
    "    return dd, out\n",
    "\n",
    "\n",
    "# Example usage ---\n",
    "dd, out = make_hardpoint_group_selector(test_command_df, test_status_df)\n"
   ]
  },
  {
   "cell_type": "code",
   "execution_count": null,
   "metadata": {},
   "outputs": [],
   "source": []
  }
 ],
 "metadata": {
  "kernelspec": {
   "display_name": "lsst-scipipe-10.1.0",
   "language": "python",
   "name": "python3"
  },
  "language_info": {
   "codemirror_mode": {
    "name": "ipython",
    "version": 3
   },
   "file_extension": ".py",
   "mimetype": "text/x-python",
   "name": "python",
   "nbconvert_exporter": "python",
   "pygments_lexer": "ipython3",
   "version": "3.12.11"
  }
 },
 "nbformat": 4,
 "nbformat_minor": 4
}
