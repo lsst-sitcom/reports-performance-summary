{
 "cells": [
  {
   "cell_type": "markdown",
   "metadata": {},
   "source": [
    "# Hardpoint breakaway tests recent history"
   ]
  },
  {
   "cell_type": "code",
   "execution_count": null,
   "metadata": {},
   "outputs": [],
   "source": [
    "# Times Square parameters\n",
    "day_obs = 20230526 # YYYYMMDD"
   ]
  },
  {
   "cell_type": "markdown",
   "metadata": {},
   "source": [
    "> **Note:**  \n",
    "> This notebook was intended to track historical hardpoint test data.  \n",
    "> Due to resource limitations, Times Square is not suitable for this.  \n",
    "> Please download and adapt the notebook locally if needed.\n"
   ]
  },
  {
   "cell_type": "code",
   "execution_count": null,
   "metadata": {
    "tags": []
   },
   "outputs": [],
   "source": [
    "import asyncio\n",
    "import numpy as np\n",
    "import pandas as pd\n",
    "import matplotlib.pyplot as plt\n",
    "from astropy.time import Time, TimeDelta\n",
    "from datetime import datetime, timedelta\n",
    "\n",
    "from lsst.summit.utils.efdUtils import makeEfdClient, getEfdData, getDayObsEndTime, getDayObsStartTime"
   ]
  },
  {
   "cell_type": "code",
   "execution_count": null,
   "metadata": {
    "tags": []
   },
   "outputs": [],
   "source": [
    "def stiffness(force, disp, name):\n",
    "    forces = force.values\n",
    "    disps = disp.values\n",
    "    if name == 'Pos':\n",
    "        maxi = np.argmax(force.values > 1000.0)\n",
    "        mini = np.argmin(force.values < -1000.0)\n",
    "    elif name == 'Neg':\n",
    "        maxi = np.argmin(force.values > 1000.0)\n",
    "        mini = np.argmax(force.values < -1000.0)\n",
    "    forceMax = forces[maxi] \n",
    "    forceMin = forces[mini]\n",
    "    dispMax = disps[maxi] * 1.0E6\n",
    "    dispMin = disps[mini] * 1.0E6\n",
    "\n",
    "    delta_disp = dispMax - dispMin\n",
    "    if np.isnan(delta_disp) or delta_disp == 0:\n",
    "        print(f\"Warning: Cannot compute stiffness — displacement difference between max and min is zero (dispMax={dispMax:.3f}, dispMin={dispMin:.3f})\")\n",
    "        stiffness = np.nan \n",
    "    else:\n",
    "        stiffness = (forceMax - forceMin) / delta_disp\n",
    "        \n",
    "    breakaway_plus = np.max(forces)\n",
    "    breakaway_minus = np.min(forces)\n",
    "    return breakaway_plus, breakaway_minus, stiffness\n",
    "\n",
    "def getStartsAndEnds(hardpoints, hp_index, previousState, startState, endState):\n",
    "    starts = []\n",
    "    ends = []\n",
    "    test_delay = 450\n",
    "    for i in range(1, len(hardpoints)):\n",
    "        if hardpoints.iloc[i][f'testState{hp_index}']==startState and \\\n",
    "        hardpoints.iloc[i - 1][f'testState{hp_index}']==previousState:\n",
    "            this_start = hardpoints.index[i]\n",
    "            test_time = this_start + pd.Timedelta(seconds=test_delay)\n",
    "            k = 0\n",
    "            while hardpoints.index[i + k] < test_time:\n",
    "                if hardpoints.iloc[i + k][f'testState{hp_index}']==startState and \\\n",
    "                hardpoints.iloc[i + k + 1][f'testState{hp_index}']==endState:\n",
    "                    this_end = hardpoints.index[i + k + 1]\n",
    "                    starts.append(Time(this_start, scale='utc'))\n",
    "                    ends.append(Time(this_end, scale='utc'))\n",
    "                    break\n",
    "                k += 1\n",
    "    return starts, ends        "
   ]
  },
  {
   "cell_type": "code",
   "execution_count": null,
   "metadata": {},
   "outputs": [],
   "source": [
    "# Create an EFD client instance\n",
    "client = makeEfdClient()\n",
    "\n",
    "# Define the start and end time\n",
    "start_day_obs = day_obs\n",
    "end_day_obs = day_obs\n",
    "\n",
    "start_time = getDayObsStartTime(start_day_obs)\n",
    "end_time = getDayObsEndTime(end_day_obs)\n",
    "\n",
    "hardpoints = await client.select_time_series(\\\n",
    "                    \"lsst.sal.MTM1M3.logevent_hardpointTestStatus\", \\\n",
    "                    [\"*\"], start_time, end_time)"
   ]
  },
  {
   "cell_type": "code",
   "execution_count": null,
   "metadata": {
    "tags": []
   },
   "outputs": [],
   "source": [
    "%matplotlib inline\n",
    "\n",
    "states = [['Pos',2,3,4], ['Neg',3,4,5]]\n",
    "\n",
    "fig, axs = plt.subplots(1,2,figsize=(10,5))\n",
    "fig.suptitle(\"MTM1M3 hardpoint trending\", fontsize=18)\n",
    "axs[0].set_title(\"Breakaway forces\", fontsize=14)\n",
    "axs[0].set_ylim(-4000, 4000)\n",
    "axs[0].set_ylabel(\"Breakaway force (N)\")\n",
    "axs[1].set_title(\"Stiffness\", fontsize=14)\n",
    "axs[1].set_ylim(0, 100)\n",
    "axs[1].set_ylabel(\"Stiffness (N/micron)\")\n",
    "min_time = 1.0E12\n",
    "max_time = 0.0\n",
    "\n",
    "data_found = False\n",
    "\n",
    "for [name, previousState, startState, endState] in states:\n",
    "    for hp_index in range(6):\n",
    "        stiffs = []\n",
    "        pos_breakaway = []\n",
    "        neg_breakaway = []\n",
    "        times = []\n",
    "        starts, ends = getStartsAndEnds(hardpoints, hp_index, previousState, startState, endState)\n",
    "\n",
    "        if len(starts) == 0 or len(ends) == 0:\n",
    "            print(f\"No data found for hardpoint {hp_index} in {name} mode.\")\n",
    "            continue\n",
    "            \n",
    "        for n in range(len(starts)):\n",
    "            start = starts[n]\n",
    "            end = ends[n]\n",
    "            try:\n",
    "                hardpointData = await client.select_time_series(\\\n",
    "                    \"lsst.sal.MTM1M3.hardpointActuatorData\", \\\n",
    "                    [f'displacement{hp_index}', f'measuredForce{hp_index}'], start, end)\n",
    "\n",
    "                force = hardpointData[f'measuredForce{hp_index}']\n",
    "                disp = hardpointData[f'displacement{hp_index}']\n",
    "                forceMin, forceMax, stiff = stiffness(force, disp, name)\n",
    "                pos_breakaway.append(forceMax)\n",
    "                neg_breakaway.append(forceMin)\n",
    "                stiffs.append(stiff)\n",
    "                time = start.unix_tai\n",
    "                times.append(time)\n",
    "                if time < min_time:\n",
    "                    min_time = time\n",
    "                    min_time_list = start.isot.split('.')[0]\n",
    "                if time > max_time:\n",
    "                    max_time = time\n",
    "                    max_time_list = start.isot.split('.')[0]\n",
    "            except:\n",
    "                continue\n",
    "\n",
    "        if len(times) == 0:\n",
    "            continue\n",
    "\n",
    "        data_found = True\n",
    "        \n",
    "        if name == 'Pos':\n",
    "            axs[0].plot(times, pos_breakaway, marker='x', label=f\"{hp_index}\")\n",
    "            axs[0].plot(times, neg_breakaway, marker='x', label=f\"{hp_index}\")\n",
    "        elif name == 'Neg':\n",
    "            axs[0].plot(times, pos_breakaway, marker='x', label='')\n",
    "            axs[0].plot(times, neg_breakaway, marker='x', label='')\n",
    "        axs[1].plot(times, stiffs, marker='x', label=f\"{name}_{hp_index}\")\n",
    "        axs[1].axhline(10, ls='--', color='black')\n",
    "        axs[1].axhline(50, ls='--', color='black')\n",
    "        \n",
    "        axs[0].set_xticks([min_time, max_time],[min_time_list, max_time_list], rotation=10)\n",
    "        axs[1].set_xticks([min_time, max_time],[min_time_list, max_time_list], rotation=10)\n",
    "\n",
    "if data_found:\n",
    "    axs[0].legend(loc='center left', ncol=3)\n",
    "    axs[1].legend(loc='upper left', ncol=3)\n",
    "    plt.show\n",
    "    print(f\"Analyzed stiffness and breakaway forces from {start_time} to {end_time}.\")\n",
    "\n",
    "else:\n",
    "    print(f\"No valid data found for any hardpoint from {start_time} to {end_time} — no plots were generated.\")"
   ]
  }
 ],
 "metadata": {
  "kernelspec": {
   "display_name": "LSST",
   "language": "python",
   "name": "lsst"
  },
  "language_info": {
   "codemirror_mode": {
    "name": "ipython",
    "version": 3
   },
   "file_extension": ".py",
   "mimetype": "text/x-python",
   "name": "python",
   "nbconvert_exporter": "python",
   "pygments_lexer": "ipython3",
   "version": "3.12.10"
  }
 },
 "nbformat": 4,
 "nbformat_minor": 4
}
