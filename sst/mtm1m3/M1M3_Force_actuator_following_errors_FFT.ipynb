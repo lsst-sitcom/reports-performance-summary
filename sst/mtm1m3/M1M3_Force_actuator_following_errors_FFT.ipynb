{
 "cells": [
  {
   "cell_type": "markdown",
   "id": "36d5a662-7a3e-4241-b20d-4d04bf99235a",
   "metadata": {},
   "source": [
    "# M1M3 Force Actuator following errors FFT"
   ]
  },
  {
   "cell_type": "code",
   "execution_count": null,
   "id": "afee1464-e220-4f16-a4c8-cb4f14af9723",
   "metadata": {},
   "outputs": [],
   "source": [
    "# Times Square parameters\n",
    "t_start = \"2025-05-27T18:30:15\"\n",
    "t_end = \"2025-05-27T18:30:24\""
   ]
  },
  {
   "cell_type": "markdown",
   "id": "0955ef8a-f61a-4ea2-8e79-4d3c3ec8b77c",
   "metadata": {},
   "source": [
    "> **Note:** Please select a short time range when running this code.  \n",
    "> For example:\n",
    "> ```python\n",
    "> t_start = \"2025-05-27T18:30:15\"\n",
    "> t_end = \"2025-05-27T18:30:24\"\n",
    "> ```\n",
    "> In this example, the time range is only 9 seconds, but the code may still take a while to run.  \n",
    "> Selecting longer time intervals (e.g., several minutes or hours) can significantly increase execution time.\n",
    ">\n",
    "> In the future, the code will be optimized to efficiently handle full observation days.\n",
    ">\n",
    "> Additionally, future versions will reduce the number of plots shown by filtering out force actuators with no\n",
    "> significant behavior, helping focus the analysis on potentially problematic components.\n"
   ]
  },
  {
   "cell_type": "code",
   "execution_count": null,
   "id": "8eb32444-5f61-48ae-a663-3d49c35d1d45",
   "metadata": {},
   "outputs": [],
   "source": [
    "import matplotlib.pyplot as plt\n",
    "import numpy as np\n",
    "import os\n",
    "import argparse\n",
    "from astropy.time import Time, TimeDelta"
   ]
  },
  {
   "cell_type": "code",
   "execution_count": null,
   "id": "e1e1d9b1-997f-4c35-91f3-b295026633c9",
   "metadata": {},
   "outputs": [],
   "source": [
    "from lsst.summit.utils.tmaUtils import TMAEventMaker\n",
    "from lsst.summit.utils.efdUtils import EfdClient, getEfdData, makeEfdClient, getDayObsEndTime, getDayObsStartTime\n",
    "from lsst.ts.xml.tables.m1m3 import FATable"
   ]
  },
  {
   "cell_type": "code",
   "execution_count": null,
   "id": "3a0d6e99-ab66-45ab-b7b3-49b2ffbcdfc0",
   "metadata": {},
   "outputs": [],
   "source": [
    "# Create an EFD client instance\n",
    "client = makeEfdClient()\n",
    "\n",
    "# Define the start and end time\n",
    "t_start = Time(t_start)\n",
    "t_end = Time(t_end)\n",
    "\n",
    "main(t_start, t_end)\n"
   ]
  },
  {
   "cell_type": "code",
   "execution_count": null,
   "id": "544289e3-35b4-40fd-9311-f510cc89efa4",
   "metadata": {},
   "outputs": [],
   "source": [
    "def loop_over_actuators(client, topic, nb_actuators, t_start, t_end):\n",
    "    print(f\"Processing {topic}\")\n",
    "\n",
    "    plot_directory = \"./plots/\"\n",
    "    if not os.path.exists(plot_directory):\n",
    "        os.makedirs(plot_directory)\n",
    "    FA_error = [f\"{topic}{i}\" for i in range(nb_actuators)]\n",
    "\n",
    "    if \"secondary\" in topic:\n",
    "        secondary_actuator_id = np.array([])\n",
    "        for i in range(len(FATable)):\n",
    "            if FATable[i].s_index is not None:\n",
    "                secondary_actuator_id = np.append(\n",
    "                    secondary_actuator_id, FATable[i].actuator_id\n",
    "                )\n",
    "        secondary_actuator_id = secondary_actuator_id.astype(int)\n",
    "        \n",
    "    for fa in range(nb_actuators):\n",
    "        if fa % 10 == 0:\n",
    "            print(f\"{fa}/{nb_actuators}\")\n",
    "        df = getEfdData(\n",
    "            client,\n",
    "            \"lsst.sal.MTM1M3.forceActuatorData\",\n",
    "            columns=FA_error,\n",
    "            begin=t_start,\n",
    "            end=t_end,\n",
    "        )\n",
    "        \n",
    "        dt = (df[f\"{topic}0\"].index[1] - df[f\"{topic}0\"].index[0]).total_seconds()\n",
    "        freqs = np.fft.fftfreq(len(df), d=dt)\n",
    "        positive_mask = freqs > 0\n",
    "        fft_frequency = freqs[positive_mask]\n",
    "        fft_result = np.fft.fft(df.values, axis=0)\n",
    "        fft_magnitudes = np.abs(fft_result[positive_mask, :])\n",
    "        plt.figure(figsize=(10, 5))\n",
    "        \n",
    "        if \"primary\" in topic:\n",
    "            label = FATable[fa].actuator_id\n",
    "        else:\n",
    "            label = secondary_actuator_id[fa]\n",
    "            \n",
    "        plt.plot(\n",
    "            fft_frequency, fft_magnitudes[:, fa], label=f\"Primary actuator {label}\"\n",
    "        )\n",
    "        plt.title(f\"Power spectrum from {t_start} to {t_end}\")\n",
    "        plt.xlabel(\"Frequency [Hz]\")\n",
    "        plt.ylabel(\"Magnitude\")\n",
    "        plt.legend()\n",
    "        plt.show()\n",
    "\n",
    "        #if \"primary\" in topic:\n",
    "        #    plt.savefig(f\"{plot_directory}PA_{FATable[fa].actuator_id}.png\")\n",
    "        #else:\n",
    "        #    plt.savefig(f\"{plot_directory}SA_{secondary_actuator_id[fa]}.png\")\n",
    "\n",
    "            \n",
    "def main(t_start, t_end):\n",
    "\n",
    "    loop_over_actuators(\n",
    "        client, \"primaryCylinderFollowingError\", len(FATable), t_start, t_end\n",
    "    )\n",
    "\n",
    "    loop_over_actuators(\n",
    "        client, \"secondaryCylinderFollowingError\", 112, t_start, t_end\n",
    "    )\n",
    " "
   ]
  }
 ],
 "metadata": {
  "kernelspec": {
   "display_name": "LSST",
   "language": "python",
   "name": "lsst"
  },
  "language_info": {
   "codemirror_mode": {
    "name": "ipython",
    "version": 3
   },
   "file_extension": ".py",
   "mimetype": "text/x-python",
   "name": "python",
   "nbconvert_exporter": "python",
   "pygments_lexer": "ipython3",
   "version": "3.12.10"
  }
 },
 "nbformat": 4,
 "nbformat_minor": 5
}
