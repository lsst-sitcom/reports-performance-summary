{
 "cells": [
  {
   "cell_type": "markdown",
   "id": "36d5a662-7a3e-4241-b20d-4d04bf99235a",
   "metadata": {},
   "source": [
    "# M1M3 Force Actuator following errors FFT"
   ]
  },
  {
   "cell_type": "markdown",
   "id": "6049a560-47e0-41e6-bc0a-114aaedea536",
   "metadata": {},
   "source": [
    "This analysis will go through all slews of a given day_obs, finding peaks above a certain threshold_peak in the FFT and that have a higher frequency than threshold_freq. \n",
    "\n",
    "We recommend that the first time you run the code you select the day you want to analyze and set slew_selector = False and plot_output=False. The code will give a first pass and return the anomalies found on each slew.\n",
    "\n",
    "Once a slew of interest (slew_nb) is identified, the code can be rerun with slew_selector set to True (set slew_nb as well) and plot_output set to True. \n",
    "\n",
    "Note that the run time is 3 seconds per slew on average. More or less time depending on how many anomalies are found."
   ]
  },
  {
   "cell_type": "code",
   "execution_count": null,
   "id": "afee1464-e220-4f16-a4c8-cb4f14af9723",
   "metadata": {},
   "outputs": [],
   "source": [
    "# Times Square parameters\n",
    "day_obs = 20250527\n",
    "threshold_peak = 800\n",
    "threshold_freq = 3.0 # Hz\n",
    "slew_selector = False\n",
    "slew_nb = 0\n",
    "plot_output = False"
   ]
  },
  {
   "cell_type": "code",
   "execution_count": null,
   "id": "8eb32444-5f61-48ae-a663-3d49c35d1d45",
   "metadata": {},
   "outputs": [],
   "source": [
    "import matplotlib.pyplot as plt\n",
    "import numpy as np\n",
    "import pandas as pd\n",
    "import os\n",
    "from astropy.time import Time\n",
    "from scipy.signal import find_peaks\n",
    "\n",
    "from lsst.summit.utils.tmaUtils import TMAEventMaker, TMAState\n",
    "from lsst.summit.utils.efdUtils import EfdClient, getEfdData, makeEfdClient, getDayObsEndTime, getDayObsStartTime\n",
    "from lsst.ts.xml.tables.m1m3 import FATable"
   ]
  },
  {
   "cell_type": "code",
   "execution_count": null,
   "id": "a25c18ae-af02-4942-b55b-6db1c36a4008",
   "metadata": {},
   "outputs": [],
   "source": [
    "def read_slews(day_obs):\n",
    "    # Select data from a given date\n",
    "    eventMaker = TMAEventMaker()\n",
    "    events = eventMaker.getEvents(day_obs)\n",
    "\n",
    "    # Get lists of slew and track events\n",
    "    slews = [e for e in events if e.type == TMAState.SLEWING]\n",
    "    print(f\"Found {len(slews)} slews\")\n",
    "    return slews"
   ]
  },
  {
   "cell_type": "code",
   "execution_count": null,
   "id": "d69a876b-d82f-4df2-937b-300805c3cc0d",
   "metadata": {},
   "outputs": [],
   "source": [
    "def loop_over_slews(slews):\n",
    "\n",
    "    for s,slew in enumerate(slews):\n",
    "        if slew_selector:\n",
    "            if s != slew_nb:\n",
    "                continue\n",
    "        else:\n",
    "            print(f'{s}/{len(slews)}')\n",
    "        loop_over_actuators(client, s, slew)\n"
   ]
  },
  {
   "cell_type": "code",
   "execution_count": null,
   "id": "544289e3-35b4-40fd-9311-f510cc89efa4",
   "metadata": {},
   "outputs": [],
   "source": [
    "def loop_over_actuators(client, slew_nb, slew):\n",
    "\n",
    "    FA_error = [f\"primaryCylinderFollowingError{i}\" for i in range(len(FATable))]\n",
    "    FA_error += [f\"secondaryCylinderFollowingError{i}\" for i in range(112)]\n",
    "    df = getEfdData(\n",
    "        client,\n",
    "        \"lsst.sal.MTM1M3.forceActuatorData\",\n",
    "        columns=FA_error,\n",
    "        begin=slew.begin,\n",
    "        end=slew.end,\n",
    "    )\n",
    "    if len(df) < 10: #require minimum length\n",
    "        print(f\"Skipping slew {slew_nb} with few data points\")\n",
    "        return\n",
    "    \n",
    "    for fa in range(len(FATable)):\n",
    "        actuator_id = FATable[fa].actuator_id\n",
    "        df_ref = df[f'primaryCylinderFollowingError{fa}']\n",
    "        fft_plot(slew_nb, df_ref, actuator_id, \"primary\", slew.begin, slew.end)\n",
    "        if FATable[fa].s_index is None:\n",
    "            continue\n",
    "        else:\n",
    "            df_ref = df[f'secondaryCylinderFollowingError{FATable[fa].s_index}']\n",
    "            fft_plot(slew_nb, df_ref, actuator_id, \"secondary\", slew.begin, slew.end)\n",
    "            "
   ]
  },
  {
   "cell_type": "code",
   "execution_count": null,
   "id": "85531ba6-2998-4350-a806-e1a4eac3a7da",
   "metadata": {},
   "outputs": [],
   "source": [
    "def fft_plot(slew_nb, df_ref, actuator_id, actuator_type, t_start, t_end):\n",
    "\n",
    "    plot_directory = \"./plots/\"\n",
    "    if not os.path.exists(plot_directory):\n",
    "        os.makedirs(plot_directory)\n",
    "    dt = (df_ref.index[1] - df_ref.index[0]).total_seconds()\n",
    "    freqs = np.fft.fftfreq(len(df_ref), d=dt)\n",
    "    positive_mask = freqs > 0\n",
    "    fft_frequency = freqs[positive_mask]\n",
    "    fft_result = np.fft.fft(df_ref.values, axis=0)\n",
    "    fft_magnitudes = np.abs(fft_result[positive_mask])\n",
    "    peaks, properties = find_peaks(fft_magnitudes, height=10, distance=5)\n",
    "    if len(peaks) < 1:\n",
    "        print(f\"Could not find peaks in FFT for FA following errors in {actuator_type} actuator {actuator_id}, in slew {slew_nb}\")\n",
    "        return\n",
    "    # Extract peak frequencies and magnitudes\n",
    "    peak_freqs = fft_frequency[peaks]\n",
    "    peak_magnitudes = fft_magnitudes[peaks]\n",
    "    largest = pd.Series(peak_magnitudes).max()\n",
    "    max_freq = peak_freqs[pd.Series(peak_magnitudes).idxmax()]\n",
    "    if ((largest > threshold_peak) and (max_freq > threshold_freq)): \n",
    "        print(f\"Found anomaly in {actuator_type} actuator {actuator_id} in slew {slew_nb} above {threshold_peak}, frequency {max_freq:.2f} Hz {largest:.1f}\")\n",
    "        if plot_output:\n",
    "            plt.figure(figsize=(10, 5))\n",
    "            label = f\"{actuator_type} actuator {actuator_id}\"\n",
    "            plt.plot(\n",
    "                fft_frequency, fft_magnitudes, label=label\n",
    "            )\n",
    "            start = t_start.to_datetime().strftime('%H:%M:%S')\n",
    "            end = t_end.to_datetime().strftime('%H:%M:%S')\n",
    "            plt.title(f\"{actuator_type} actuator {actuator_id}, slew {slew_nb} on {day_obs}. Power spectrum for {start} - {end}\")\n",
    "            plt.xlabel(\"Frequency [Hz]\")\n",
    "            plt.ylabel(\"Magnitude\")\n",
    "            #plt.legend()\n",
    "            #plt.savefig(f\"{plot_directory}PA_{actuator_id}_{slew_nb}_{day_obs}.png\")\n",
    "            plt.show()\n",
    "            plt.close()\n",
    "\n",
    "            plt.figure(figsize=(10,5))\n",
    "            plt.plot(df_ref, label=label)\n",
    "            plt.title(f\"{actuator_type} actuator {actuator_id}, slew {slew_nb} on {day_obs}. Power spectrum for {start} - {end}\")\n",
    "            plt.xlabel(\"UTC\")\n",
    "            plt.ylabel(\"FA following error\")\n",
    "            #plt.legend()\n",
    "            #plt.savefig(f\"{plot_directory}PA_{actuator_id}_{slew_nb}_{day_obs}_FAerror.png\")\n",
    "            plt.show()\n",
    "            plt.close()\n"
   ]
  },
  {
   "cell_type": "code",
   "execution_count": null,
   "id": "472a35d1-7b0a-4186-876b-15ed65478bd0",
   "metadata": {},
   "outputs": [],
   "source": [
    "def main(day_obs):\n",
    "\n",
    "    slews = read_slews(day_obs)\n",
    "\n",
    "    loop_over_slews(slews)\n",
    "        "
   ]
  },
  {
   "cell_type": "code",
   "execution_count": null,
   "id": "3a0d6e99-ab66-45ab-b7b3-49b2ffbcdfc0",
   "metadata": {},
   "outputs": [],
   "source": [
    "# Create an EFD client instance\n",
    "client = makeEfdClient()\n",
    "\n",
    "# Run for day_obs\n",
    "main(day_obs)\n"
   ]
  },
  {
   "cell_type": "code",
   "execution_count": null,
   "id": "05bc645a-b44a-407f-89be-cdea0e1f5fbf",
   "metadata": {},
   "outputs": [],
   "source": []
  }
 ],
 "metadata": {
  "kernelspec": {
   "display_name": "LSST",
   "language": "python",
   "name": "lsst"
  },
  "language_info": {
   "codemirror_mode": {
    "name": "ipython",
    "version": 3
   },
   "file_extension": ".py",
   "mimetype": "text/x-python",
   "name": "python",
   "nbconvert_exporter": "python",
   "pygments_lexer": "ipython3",
   "version": "3.12.10"
  }
 },
 "nbformat": 4,
 "nbformat_minor": 5
}
