{
 "cells": [
  {
   "cell_type": "code",
   "execution_count": null,
   "metadata": {},
   "outputs": [],
   "source": [
    "day_obs = \"20241104\" "
   ]
  },
  {
   "cell_type": "markdown",
   "metadata": {},
   "source": [
    "# Facilities Temperatures Reports\n",
    "Author: Bruno C. Quint\n",
    "\n",
    "This notebook contains a plot used to evaluate the safety of the M1M3 glass.\n",
    "The temperature requirements are:\n",
    "* The difference between the mirror cell and its surroundings must be below 5ºC. \n",
    "* The temperature increase/decrease rate must be less than 1ºC/h. \n",
    "\n",
    "The details about each topic are described below. \n",
    "Some of them might not be used in the current version.\n",
    "However, I am leaving them here until this notebook gets mature and we reach an agreement on what needs monitoring. \n"
   ]
  },
  {
   "cell_type": "code",
   "execution_count": null,
   "metadata": {},
   "outputs": [],
   "source": [
    "import itertools\n",
    "import matplotlib.pyplot as plt\n",
    "import matplotlib.gridspec as gridspec\n",
    "import numpy as np\n",
    "import os\n",
    "import pandas as pd\n",
    "import warnings\n",
    "\n",
    "from astropy import units as u\n",
    "from astropy.time import Time\n",
    "from scipy.interpolate import interp1d\n",
    "from lsst.summit.utils.blockUtils import BlockParser\n",
    "from lsst.summit.utils.efdUtils import makeEfdClient, getEfdData, getDayObsStartTime\n",
    "from lsst.ts.xml.sal_enums import State\n",
    "\n",
    "\n",
    "# Ignore the many warning messages from ``merge_packed_time_series``\n",
    "warnings.simplefilter(action=\"ignore\", category=FutureWarning)\n",
    "\n",
    "# Create an EFD client\n",
    "client = makeEfdClient()\n",
    "\n",
    "# Constants used in the notebook\n",
    "ess_weather_station_sal_index = 301\n",
    "m1m3_inside_cell_sal_index = 113\n",
    "dome_inside_sal_index = 111\n",
    "\n",
    "# Create a folder for plots\n",
    "os.makedirs(\"plots/\", exist_ok=True)"
   ]
  },
  {
   "cell_type": "markdown",
   "metadata": {},
   "source": [
    "## Query the data"
   ]
  },
  {
   "cell_type": "code",
   "execution_count": null,
   "metadata": {},
   "outputs": [],
   "source": [
    "day_obs = int(day_obs)\n",
    "start_time = getDayObsStartTime(day_obs)\n",
    "end_time = start_time + 1 * u.day\n",
    "\n",
    "print(\n",
    "    f\"\\nQuery data for {day_obs}\"\n",
    "    f\"\\n  starts at {start_time.isot} and\"\n",
    "    f\"\\n  ends at {end_time.isot}\\n\"\n",
    ")"
   ]
  },
  {
   "cell_type": "markdown",
   "metadata": {},
   "source": [
    "The cell bellow contains data that comes from the Weather Station Tower."
   ]
  },
  {
   "cell_type": "code",
   "execution_count": null,
   "metadata": {},
   "outputs": [],
   "source": [
    "df_outside = getEfdData(\n",
    "    client=client,\n",
    "    topic=\"lsst.sal.ESS.temperature\",\n",
    "    columns=[\"temperatureItem0\", \"salIndex\", \"location\"],\n",
    "    begin=start_time,\n",
    "    end=end_time,\n",
    ")\n",
    "\n",
    "# Select the data from the weather station using the salIndex\n",
    "mask = df_outside.salIndex == ess_weather_station_sal_index\n",
    "df_outside = df_outside[mask]\n",
    "\n",
    "# Print the location of this sensor\n",
    "print(\"Sensor location: \", df_outside[\"location\"].unique())\n",
    "\n",
    "# We do not need the salIndex anymore\n",
    "df_outside = df_outside.drop(columns=['salIndex'])\n",
    "\n",
    "# Get the rolling min/mean/max values for the temperature\n",
    "df_outside = df_outside.rename(columns={\"temperatureItem0\": \"temperature\"})\n",
    "df_outside = df_outside.resample(\"1min\").agg(\n",
    "    {\"temperature\": [\"min\", \"mean\", \"max\"]}\n",
    ")\n",
    "df_outside.columns = df_outside.columns.droplevel(0)"
   ]
  },
  {
   "cell_type": "markdown",
   "metadata": {},
   "source": [
    "MTMount contains multiple temperature sensors near the telescope.  \n",
    "For the sake of simplicity, we will monitor the temperature sensors near the \n",
    "Top End Assembly for now."
   ]
  },
  {
   "cell_type": "code",
   "execution_count": null,
   "metadata": {},
   "outputs": [],
   "source": [
    "df_inside = getEfdData(\n",
    "    client=client,\n",
    "    topic=\"lsst.sal.MTMount.topEndChiller\",\n",
    "    columns=[\"ambientTemperature\"],\n",
    "    begin=start_time,\n",
    "    end=end_time,\n",
    ")\n",
    "\n",
    "# Get the rolling min/mean/max values for the temperature\n",
    "df_inside = df_inside.rename(columns={\"ambientTemperature\": \"temperature\"})\n",
    "df_inside = df_inside.resample('1T').agg({\n",
    "    'temperature': ['mean', 'min', 'max']\n",
    "})\n",
    "df_inside.columns = df_inside.columns.droplevel(0)"
   ]
  },
  {
   "cell_type": "markdown",
   "metadata": {},
   "source": [
    "The telemetry above has not been reliable.  \n",
    "As an attempt of investigating it a bit more, we can visualize what are the summary states of MTMount. "
   ]
  },
  {
   "cell_type": "code",
   "execution_count": null,
   "metadata": {},
   "outputs": [],
   "source": [
    "df_mtmount = getEfdData(\n",
    "    client=client,\n",
    "    topic=\"lsst.sal.MTMount.logevent_summaryState\",\n",
    "    columns=[\"summaryState\"],\n",
    "    begin=start_time,\n",
    "    end=end_time,\n",
    ")\n",
    "\n",
    "if df_mtmount.index.empty:\n",
    "    df_mtmount = pd.DataFrame(columns=[\"summaryState\"])"
   ]
  },
  {
   "cell_type": "markdown",
   "metadata": {},
   "source": [
    "The glycol cooling system is divided into three main circuits, each associated with different chillers and purposes. \n",
    "The system is designed with redundancy in mind, allowing automatic switching between chillers in case of failure.\n",
    "\n",
    "- **Chiller 1 & 2**: Located on **Level 1** – Cold Glycol Circuit\n",
    "- **Chiller 3**: Located on **Level 1** – General Purpose (GP) Glycol / Comfort Circuit\n",
    "- **Chiller 4**: Located **outside the building on Level 1** – Dedicated Cooling Circuit\n",
    "\n",
    "\n",
    "### Cold Glycol – Chillers 1 & 2\n",
    "\n",
    "Chillers 1 and 2 provide the cold glycol circuit, operating at lower temperatures (–4°C to +4°C).\n",
    "This circuit cools several systems:\n",
    "\n",
    "- OSS\n",
    "- Dome AHUs (level 5)\n",
    "- M1M3TS\n",
    "- Dyn Chiller 2 (TMA/Camera)\n",
    "- Camera cabinet volumes (cryo and PCS)"
   ]
  },
  {
   "cell_type": "code",
   "execution_count": null,
   "metadata": {},
   "outputs": [],
   "source": [
    "df_glycol_cold = getEfdData(\n",
    "    client=client,\n",
    "    topic=\"lsst.sal.MTMount.cooling\",\n",
    "    columns=[\"glycolTemperaturePier0101\"],\n",
    "    begin=start_time,\n",
    "    end=end_time,\n",
    ")\n",
    "\n",
    "df_glycol_cold = df_glycol_cold.rename(columns={\"glycolTemperaturePier0101\": \"temperature\"})\n",
    "df_glycol_cold = df_glycol_cold.resample('1T').agg({\n",
    "    'temperature': ['mean', 'min', 'max']\n",
    "})\n",
    "df_glycol_cold.columns = df_glycol_cold.columns.droplevel(0)"
   ]
  },
  {
   "cell_type": "markdown",
   "metadata": {},
   "source": [
    "### General Glycol (Comfort) – Chiller 3\n",
    "\n",
    "Chiller 3 handles the general purpose (GP) glycol, also called the comfort circuit, operating typically at 5–12°C.  \n",
    "It was originally installed to cool:\n",
    "\n",
    "- MRCR (camera)\n",
    "- Office AC\n",
    "- Cleanroom AHUs (level 3/4)\n",
    "- Dyn Chiller 1 (level 3 cleanroom)\n",
    "- TMA cabinets/drives\n",
    "- camera compressors (cryo and PCS)\n",
    "\n",
    "\n",
    "The system was extended to provide cooling to Levels 4, 6, and 7. However, Level 8 is not reached by this circuit.  \n",
    "\n",
    "\n",
    "\n",
    "### Chiller 4\n",
    "\n",
    "Chiller 4 supplies computer room AC or coating plant (switched via valve)\n"
   ]
  },
  {
   "cell_type": "code",
   "execution_count": null,
   "metadata": {},
   "outputs": [],
   "source": [
    "df_glycol_general = getEfdData(\n",
    "    client=client,\n",
    "    topic=\"lsst.sal.MTMount.generalPurposeGlycolWater\",\n",
    "    columns=[\"glycolTemperaturePier0001\"],\n",
    "    begin=start_time,\n",
    "    end=end_time,\n",
    ")\n",
    "\n",
    "# Get the rolling min/mean/max values for the temperature\n",
    "df_glycol_general = df_glycol_general.rename(columns={\"glycolTemperaturePier0001\": \"temperature\"})\n",
    "df_glycol_general = df_glycol_general.resample('1T').agg({\n",
    "    'temperature': ['mean', 'min', 'max']\n",
    "})\n",
    "df_glycol_general.columns = df_glycol_general.columns.droplevel(0)"
   ]
  },
  {
   "cell_type": "markdown",
   "metadata": {},
   "source": [
    "The `df_m1m3` below represents the air above M1M3.  \n",
    "We can use it as an estimate of the temperature inside the dome and near the cell. "
   ]
  },
  {
   "cell_type": "code",
   "execution_count": null,
   "metadata": {},
   "outputs": [],
   "source": [
    "df_m1m3 = getEfdData(\n",
    "    client=client,\n",
    "    topic=\"lsst.sal.ESS.temperature\",\n",
    "    columns=[\"temperatureItem0\", \"salIndex\", \"location\"],\n",
    "    begin=start_time,\n",
    "    end=end_time,\n",
    ")\n",
    "\n",
    "# Select the data from the weather station using the salIndex\n",
    "mask = df_m1m3.salIndex == m1m3_inside_cell_sal_index\n",
    "df_m1m3 = df_m1m3[mask]\n",
    "\n",
    "# Print the location of this sensor\n",
    "print(\"Sensor location: \", df_m1m3[\"location\"].unique())\n",
    "\n",
    "# We do not need the salIndex anymore\n",
    "df_m1m3 = df_m1m3.drop(columns=['salIndex'])\n",
    "\n",
    "# Get the rolling min/mean/max values for the temperature\n",
    "df_m1m3 = df_m1m3.rename(columns={\"temperatureItem0\": \"temperature\"})\n",
    "df_m1m3 = df_m1m3.resample(\"1min\").agg(\n",
    "    {\"temperature\": [\"min\", \"mean\", \"max\"]}\n",
    ")\n",
    "df_m1m3.columns = df_m1m3.columns.droplevel(0)"
   ]
  },
  {
   "cell_type": "markdown",
   "metadata": {},
   "source": [
    "This is another measurement of the temperature inside the dome.  \n",
    "We need more details about its location since the output is not clear. "
   ]
  },
  {
   "cell_type": "code",
   "execution_count": null,
   "metadata": {},
   "outputs": [],
   "source": [
    "df_inside_dome = getEfdData(\n",
    "    client=client,\n",
    "    topic=\"lsst.sal.ESS.temperature\",\n",
    "    columns=[\"temperatureItem0\", \"salIndex\", \"location\"],\n",
    "    begin=start_time,\n",
    "    end=end_time,\n",
    ")\n",
    "\n",
    "# Select the data from the weather station using the salIndex\n",
    "mask = df_inside_dome.salIndex == dome_inside_sal_index\n",
    "df_inside_dome = df_inside_dome[mask]\n",
    "\n",
    "# Print the location of this sensor\n",
    "print(\"Sensor location: \", df_inside_dome[\"location\"].unique())\n",
    "\n",
    "# We do not need the salIndex anymore\n",
    "df_inside_dome = df_inside_dome.drop(columns=['salIndex'])\n",
    "\n",
    "# Get the rolling min/mean/max values for the temperature\n",
    "df_inside_dome = df_inside_dome.rename(columns={\"temperatureItem0\": \"temperature\"})\n",
    "df_inside_dome = df_inside_dome.resample(\"1min\").agg(\n",
    "    {\"temperature\": [\"min\", \"mean\", \"max\"]}\n",
    ")\n",
    "df_inside_dome.columns = df_inside_dome.columns.droplevel(0)"
   ]
  },
  {
   "cell_type": "markdown",
   "metadata": {},
   "source": [
    "The telemetry below retrieves the temperatures from inside the cell.  \n",
    "There are 96 sensors in this topic.  \n",
    "This is why the statistics are calculated across them intead of a rolling window. "
   ]
  },
  {
   "cell_type": "code",
   "execution_count": null,
   "metadata": {},
   "outputs": [],
   "source": [
    "df_m1m3ts_inside = getEfdData(\n",
    "    client=client,\n",
    "    topic=\"lsst.sal.MTM1M3TS.thermalData\",\n",
    "    columns=[f\"absoluteTemperature{i}\" for i in range(96)],\n",
    "    begin=start_time,\n",
    "    end=end_time\n",
    ")\n",
    "\n",
    "df_m1m3ts_inside[\"mean\"] = df_m1m3ts_inside.mean(axis=1)\n",
    "df_m1m3ts_inside[\"min\"] = df_m1m3ts_inside.min(axis=1)\n",
    "df_m1m3ts_inside[\"max\"] = df_m1m3ts_inside.max(axis=1)"
   ]
  },
  {
   "cell_type": "markdown",
   "metadata": {},
   "source": [
    "The mixing valve allows glycol circulation within the cell.  \n",
    "It ranges from 0% to 100% opened.  \n",
    "The more it is opened, the more it will cool down the m1m3 cell. "
   ]
  },
  {
   "cell_type": "code",
   "execution_count": null,
   "metadata": {},
   "outputs": [],
   "source": [
    "df_m1m3ts_mixing_valve = getEfdData(\n",
    "    client=client,\n",
    "    topic=\"lsst.sal.MTM1M3TS.mixingValve\",\n",
    "    columns=[\"valvePosition\"],\n",
    "    begin=start_time,\n",
    "    end=end_time\n",
    ")"
   ]
  },
  {
   "cell_type": "markdown",
   "metadata": {},
   "source": [
    "This topic came from Petr and Sandrine as another estimate of the temperature inside the cell.  \n",
    "The topic name and the documentation in the ts-xml page confirms that.  \n",
    "It is not clear if it has any special spatial distribution that can be relevant in the analysis."
   ]
  },
  {
   "cell_type": "code",
   "execution_count": null,
   "metadata": {},
   "outputs": [],
   "source": [
    "df_m1m3ts_glycol_loop = getEfdData(\n",
    "    client=client,\n",
    "    topic=\"lsst.sal.MTM1M3TS.glycolLoopTemperature\",\n",
    "    columns=[f\"insideCellTemperature{i}\" for i in range(1, 4)],\n",
    "    begin=start_time,\n",
    "    end=end_time\n",
    ")\n",
    "\n",
    "df_m1m3ts_glycol_loop_1 = pd.DataFrame(df_m1m3ts_glycol_loop[\"insideCellTemperature1\"])\n",
    "df_m1m3ts_glycol_loop_1 = df_m1m3ts_glycol_loop_1.rename(columns={\"insideCellTemperature1\": \"temperature\"})\n",
    "df_m1m3ts_glycol_loop_1 = df_m1m3ts_glycol_loop_1.resample(\"1min\").agg(\n",
    "    {\"temperature\": [\"min\", \"mean\", \"max\"]}\n",
    ")\n",
    "df_m1m3ts_glycol_loop_1.columns = df_m1m3ts_glycol_loop_1.columns.droplevel(0)\n",
    "\n",
    "df_m1m3ts_glycol_loop_2 = pd.DataFrame(df_m1m3ts_glycol_loop[\"insideCellTemperature2\"])\n",
    "df_m1m3ts_glycol_loop_2 = df_m1m3ts_glycol_loop_2.rename(columns={\"insideCellTemperature2\": \"temperature\"})\n",
    "df_m1m3ts_glycol_loop_2 = df_m1m3ts_glycol_loop_2.resample(\"1min\").agg(\n",
    "    {\"temperature\": [\"min\", \"mean\", \"max\"]}\n",
    ")\n",
    "df_m1m3ts_glycol_loop_2.columns = df_m1m3ts_glycol_loop_2.columns.droplevel(0)\n",
    "\n",
    "df_m1m3ts_glycol_loop_3 = pd.DataFrame(df_m1m3ts_glycol_loop[\"insideCellTemperature3\"])\n",
    "df_m1m3ts_glycol_loop_3 = df_m1m3ts_glycol_loop_3.rename(columns={\"insideCellTemperature3\": \"temperature\"})\n",
    "df_m1m3ts_glycol_loop_3 = df_m1m3ts_glycol_loop_3.resample(\"1min\").agg(\n",
    "    {\"temperature\": [\"min\", \"mean\", \"max\"]}\n",
    ")\n",
    "df_m1m3ts_glycol_loop_3.columns = df_m1m3ts_glycol_loop_3.columns.droplevel(0)"
   ]
  },
  {
   "cell_type": "code",
   "execution_count": null,
   "metadata": {},
   "outputs": [],
   "source": [
    "df_m2 = getEfdData(\n",
    "    client=client,\n",
    "    topic=\"lsst.sal.ESS.temperature\",\n",
    "    columns=[\"temperatureItem0\", \"salIndex\", \"location\"],\n",
    "    begin=start_time,\n",
    "    end=end_time\n",
    ")\n",
    "\n",
    "# Select the data from the weather station using the salIndex\n",
    "mask = df_m2.salIndex == 112\n",
    "df_m2 = df_m2[mask]\n",
    "\n",
    "# Print the location of this sensor\n",
    "print(\"Sensor location: \", df_m2[\"location\"].unique())\n",
    "\n",
    "# We do not need the salIndex anymore\n",
    "df_m2 = df_m2.drop(columns=['salIndex'])\n",
    "\n",
    "# Get the rolling min/mean/max values for the temperature\n",
    "df_m2 = df_m2.rename(columns={\"temperatureItem0\": \"temperature\"})\n",
    "df_m2 = df_m2.resample(\"1min\").agg(\n",
    "    {\"temperature\": [\"min\", \"mean\", \"max\"]}\n",
    ")\n",
    "df_m2.columns = df_m2.columns.droplevel(0)"
   ]
  },
  {
   "cell_type": "code",
   "execution_count": null,
   "metadata": {},
   "outputs": [],
   "source": [
    "count = 336\n",
    "fields = [\"timestamp\", \"temperature\", \"temperatureSpread\"]\n",
    "\n",
    "df_weather_forecast = getEfdData(\n",
    "    client=client,\n",
    "    topic=\"lsst.sal.WeatherForecast.hourlyTrend\",\n",
    "    columns=[f\"{field}{i}\" for field, i in itertools.product(fields, range(count))],\n",
    "    begin=start_time,\n",
    "    end=end_time\n",
    ")\n",
    "\n",
    "# This will be published near 23:34 UTC\n",
    "s_weather_forecast = df_weather_forecast.iloc[0]\n",
    "\n",
    "weather_forecast_update_date = s_weather_forecast.name\n",
    "\n",
    "timestamps = Time(s_weather_forecast[[f\"timestamp{i}\" for i in range(count)]], format=\"unix\", scale=\"utc\").isot\n",
    "timestamps = pd.to_datetime(timestamps)\n",
    "temperatures = s_weather_forecast[[f\"temperature{i}\" for i in range(count)]]\n",
    "temperatures_spread = s_weather_forecast[[f\"temperatureSpread{i}\" for i in range(count)]]\n",
    "\n",
    "df_weather_forecast = pd.DataFrame(\n",
    "    np.array([temperatures, temperatures_spread]).T,\n",
    "    columns=[\"temperature\", \"temperatureSpread\"],\n",
    "    index=timestamps\n",
    ")\n",
    "\n",
    "# # df = df_weather_forecast.set_index(\"timestamp\")\n",
    "# df = df[(df.index >= start_time) & (df.index <= end_time)]\n",
    "# df[\"temperature\"] = pd.to_numeric(df[\"temperature\"])\n",
    "# df[\"temperatureSpread\"] = pd.to_numeric(df[\"temperatureSpread\"])\n",
    "\n",
    "# df[\"mean\"] = df[\"temperature\"]\n",
    "# df[\"min\"] = df[\"temperature\"] - 0.5 * np.array(df[\"temperatureSpread\"])\n",
    "# df[\"max\"] = df[\"temperature\"] + 0.5 * np.array(df[\"temperatureSpread\"])\n",
    "\n",
    "# df_weather_forecast = df"
   ]
  },
  {
   "cell_type": "code",
   "execution_count": null,
   "metadata": {},
   "outputs": [],
   "source": [
    "start_time.datetime\n",
    "#df_weather_forecast.index"
   ]
  },
  {
   "cell_type": "markdown",
   "metadata": {},
   "source": [
    "## Temperatures Plots \n",
    "\n",
    "For each plot we have a solid line representing the rolling average per minute. \n",
    "In addition, the figure below contains a shaded region per color showing the min/max \n",
    "values per telemetry. However, since the min/max values do not stray far from the \n",
    "average, they are almost imperceptible."
   ]
  },
  {
   "cell_type": "code",
   "execution_count": null,
   "metadata": {},
   "outputs": [],
   "source": [
    "def plot_temperature(ax, df, label, color, alpha=0.5):\n",
    "    \"\"\"\n",
    "    Add a new plot to the axes with the mean temperature\n",
    "    and the min/max fill_between.\n",
    "\n",
    "    Parameters\n",
    "    ----------\n",
    "    ax : matplotlib.pyplot.Axes\n",
    "        Axes that will hold the plot.\n",
    "    df : pandas.DataFrame\n",
    "        Dataframe containing the `mean`, `min`, `max` columns.\n",
    "    label : str\n",
    "        A string to add to the legend.\n",
    "    color : str\n",
    "        A string representing the color of the plots.\n",
    "    alpha : float\n",
    "        A float representing the transparency of the fill_between.\n",
    "    \"\"\"\n",
    "    ax.plot(\n",
    "        df.index,\n",
    "        df[\"mean\"],\n",
    "        label=label,\n",
    "        color=color\n",
    "    )\n",
    "    ax.fill_between(\n",
    "        df.index,\n",
    "        df[\"min\"],\n",
    "        df[\"max\"],\n",
    "        color=color,\n",
    "        alpha=alpha\n",
    "    )"
   ]
  },
  {
   "cell_type": "code",
   "execution_count": null,
   "metadata": {},
   "outputs": [],
   "source": [
    "def evaluate_data(m1m3_temp_df, outside_temp_df):\n",
    "    \"\"\"\n",
    "    Makes some calculations on the temperature data, evaluating if \n",
    "    temperature difference between M1M3 and outside temperature and \n",
    "    the rate of change.\n",
    "\n",
    "    Also evaluates the Risk:\n",
    "    low(0): temp_diff < 4 C OR hour_time_change <0.7 deg/hour\n",
    "    warning(1): 4 < temp_diff < 5 C OR 0.7 < hour_time_change <1 deg/hour\n",
    "    critical(2): temp_diff > 5 OR hour_time_change > 1 deg/hour\n",
    "\n",
    "    Parameters\n",
    "    ----------\n",
    "    m1m3_temp_df : pandas.DataFrame\n",
    "        The data you want to use that signifies the M1M3 data\n",
    "    outside_temp_df : pandas.DataFrame\n",
    "        The data you want to use that signifies the Outside temperature\n",
    "\n",
    "    Returns\n",
    "    -------\n",
    "    m1m3_temp_df.index : list\n",
    "        Time to plot against the Temperature Difference and Hourly Rate of Change\n",
    "    temp_diff : list \n",
    "        Temperature Difference between M1M3 and the outside temperature\n",
    "    hour_time_change : list\n",
    "        Hourly Rate of Change of M1M3\n",
    "    risk : int\n",
    "        Risk Level as defined above\n",
    "    \"\"\"\n",
    "    # Interpolate data streams to determine temperature difference\n",
    "    m1m3_time = m1m3_temp_df.index.astype('int') / 1e-9\n",
    "    outside_time = outside_temp_df.index.astype('int') / 1e-9\n",
    "    m1m3_temp = interp1d(m1m3_time, m1m3_temp_df['mean'], bounds_error=False, fill_value=\"extrapolate\")\n",
    "    outside_temp = interp1d(outside_time, outside_temp_df['mean'], bounds_error=False, fill_value='extrapolate')\n",
    "    temp_diff = m1m3_temp(m1m3_time) - outside_temp(m1m3_time)\n",
    "\n",
    "    # Calculate the hourly rate of change\n",
    "    total_time = m1m3_temp_df.index[-1] - m1m3_temp_df.index[0]\n",
    "    spacing = total_time/len(m1m3_temp_df)\n",
    "    period = pd.Timedelta(hours=1)/spacing\n",
    "    prev_temp = m1m3_temp_df.shift(periods=int(period))\n",
    "    hour_time_change = prev_temp['mean']-m1m3_temp_df['mean']\n",
    "\n",
    "    # Evaluate the Risk\n",
    "    if temp_diff[-1] < 4 :\n",
    "        risk = 0\n",
    "    elif (temp_diff[-1] > 4) | (temp_diff[-1] < 5):\n",
    "        risk = 1\n",
    "    elif temp_diff[-1] > 5:\n",
    "        risk = 2\n",
    "\n",
    "    if hour_time_change[-1] < 0.7:\n",
    "        risk2 = 0\n",
    "    elif (hour_time_change[-1] > 0.7) & (hour_time_change[-1] < 1):\n",
    "        risk2 = 1\n",
    "    elif hour_time_change[-1] > 1:\n",
    "        risk2 = 2\n",
    "    return m1m3_temp_df.index, list(temp_diff), list(hour_time_change), max(risk, risk2)\n",
    "time_plot, temp_diff, rate_change, risk = evaluate_data(df_m1m3, df_outside)"
   ]
  },
  {
   "cell_type": "code",
   "execution_count": null,
   "metadata": {},
   "outputs": [],
   "source": [
    "#%matplotlib widget\n",
    "\n",
    "fig = plt.figure(figsize=(15,15), num=f\"temperatures_{day_obs}\")\n",
    "gs = fig.add_gridspec(2, 1, hspace=0.6, height_ratios=[6,4])\n",
    "ax = fig.add_subplot(gs[0])\n",
    "plot_temperature(ax, df_m1m3ts_inside, label=\"M1M3TS Thermal Data\", color=\"goldenrod\", alpha=0.15)\n",
    "plot_temperature(ax, df_m1m3ts_glycol_loop_1, label=\"M1M3TS Glycol Loop 1 Temp\", color=\"firebrick\")\n",
    "plot_temperature(ax, df_m1m3ts_glycol_loop_2, label=\"M1M3TS Glycol Loop 2 Temp\", color=\"orangered\")\n",
    "plot_temperature(ax, df_m1m3ts_glycol_loop_3, label=\"M1M3TS Glycol Loop 3 Temp\", color=\"tomato\")\n",
    "plot_temperature(ax, df_glycol_cold, label=\"Glycol Cold Temp\", color=\"blueviolet\")\n",
    "plot_temperature(ax, df_glycol_general, label=\"Glycol General Temp\", color=\"darkmagenta\")\n",
    "plot_temperature(ax, df_m1m3, label=\"M1M3 Air Temp\", color=\"darkturquoise\")\n",
    "plot_temperature(ax, df_inside_dome, label=\"Camera Temp\", color=\"lightseagreen\")\n",
    "plot_temperature(ax, df_m2, label=\"M2 Temp\", color=\"teal\")\n",
    "plot_temperature(ax, df_outside, label=\"Outside Temp\", color=\"mediumblue\")\n",
    "# plot_temperature(ax, df_weather_forecast, label=f\"Weather Forecase - {weather_forecast_update_date}\", color=\"mediumblue\")\n",
    "\n",
    "## The following line is commented out because the data is not reliable\n",
    "# add_plot(ax, df_inside, label=\"Inside Temp\", color=\"brown\")\n",
    "\n",
    "fig.suptitle(f\"Temperature for {day_obs}\")\n",
    "fig.autofmt_xdate()\n",
    "\n",
    "ax.grid(\":\", alpha=0.25)\n",
    "ax.legend(loc=\"lower left\")\n",
    "ax.set_title(\"Temperature at the Outside, Inside, and Glycol Water\")\n",
    "ax.set_xlabel('Time [UTC]')\n",
    "ax.set_ylabel('Temperature (ºC)')\n",
    "ax.xaxis.set_major_formatter(plt.matplotlib.dates.DateFormatter('%H:%M'))\n",
    "y_min, ymax = ax.get_ylim()\n",
    "ax.set_ylim(max(0, y_min), ymax)\n",
    "\n",
    "## Get evaluation data\n",
    "risk_label = {0:'Low', 1:'Warning', 2:'Critical'}\n",
    "time_plot, temp_diff, rate_change, risk = evaluate_data(df_m1m3, df_outside)\n",
    "ax2 = fig.add_subplot(gs[1])\n",
    "ax2.grid(\":\", alpha=0.25)\n",
    "ax2.plot(time_plot, temp_diff, label='Temp. Diff')\n",
    "ax2.plot(time_plot, rate_change, label='Rate change')\n",
    "ax2.xaxis.set_major_formatter(plt.matplotlib.dates.DateFormatter('%H:%M'))\n",
    "ax2.set_xlabel('Time [UTC]')\n",
    "ax2.set_ylabel('Temperature Difference ($\\Delta$ºC)')\n",
    "ax2.set_title(f\"Temperature Difference between M1M3 and Outside: Risk is {risk_label[risk]}\", fontsize=20)\n",
    "ax2.legend()\n",
    "\n",
    "plt.savefig(f\"./plots/temperature_outside_{day_obs}.png\")\n",
    "plt.show()\n"
   ]
  },
  {
   "cell_type": "markdown",
   "metadata": {},
   "source": [
    "## Hourly statistics\n",
    "\n",
    "Here we have a table per topic with the min/mean/max value every hour. "
   ]
  },
  {
   "cell_type": "code",
   "execution_count": null,
   "metadata": {},
   "outputs": [],
   "source": [
    "def print_dataframe(df):\n",
    "    \"\"\"\n",
    "    Print the first and last 5 rows of the dataframe.\n",
    "\n",
    "    Parameters\n",
    "    ----------\n",
    "    df : pandas.DataFrame\n",
    "        Dataframe to print.\n",
    "    \"\"\"\n",
    "    datetime_format = '%Y-%m-%d %H:%M UTC'\n",
    "\n",
    "    # Resample each data frame to hourly frequencay\n",
    "    df = df.resample('H').nearest()\n",
    "\n",
    "    # Change the format of the index to include only year, month, day, hour, and minute\n",
    "    df.index = df.index.strftime(datetime_format)\n",
    "\n",
    "    # Round the temperature values to two decimal places\n",
    "    df = df.round(2)\n",
    "\n",
    "    print(df)"
   ]
  },
  {
   "cell_type": "code",
   "execution_count": null,
   "metadata": {},
   "outputs": [],
   "source": [
    "print_dataframe(df_outside)"
   ]
  },
  {
   "cell_type": "code",
   "execution_count": null,
   "metadata": {},
   "outputs": [],
   "source": [
    "print_dataframe(df_m1m3)"
   ]
  },
  {
   "cell_type": "code",
   "execution_count": null,
   "metadata": {},
   "outputs": [],
   "source": [
    "print_dataframe(df_inside_dome)"
   ]
  },
  {
   "cell_type": "code",
   "execution_count": null,
   "metadata": {},
   "outputs": [],
   "source": [
    "print_dataframe(df_m1m3ts_inside.mean(axis=1))"
   ]
  },
  {
   "cell_type": "code",
   "execution_count": null,
   "metadata": {},
   "outputs": [],
   "source": [
    "print_dataframe(df_m1m3ts_glycol_loop_1)"
   ]
  },
  {
   "cell_type": "code",
   "execution_count": null,
   "metadata": {},
   "outputs": [],
   "source": [
    "print_dataframe(df_m1m3ts_glycol_loop_2)"
   ]
  },
  {
   "cell_type": "code",
   "execution_count": null,
   "metadata": {},
   "outputs": [],
   "source": [
    "print_dataframe(df_m1m3ts_glycol_loop_3)"
   ]
  },
  {
   "cell_type": "code",
   "execution_count": null,
   "metadata": {},
   "outputs": [],
   "source": []
  },
  {
   "cell_type": "code",
   "execution_count": null,
   "metadata": {},
   "outputs": [],
   "source": []
  }
 ],
 "metadata": {
  "kernelspec": {
   "display_name": "LSST",
   "language": "python",
   "name": "lsst"
  },
  "language_info": {
   "codemirror_mode": {
    "name": "ipython",
    "version": 3
   },
   "file_extension": ".py",
   "mimetype": "text/x-python",
   "name": "python",
   "nbconvert_exporter": "python",
   "pygments_lexer": "ipython3",
   "version": "3.12.10"
  }
 },
 "nbformat": 4,
 "nbformat_minor": 4
}
